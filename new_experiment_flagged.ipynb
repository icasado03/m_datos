{
 "cells": [
  {
   "cell_type": "code",
   "execution_count": 6,
   "id": "4c4e9731",
   "metadata": {},
   "outputs": [],
   "source": [
    "import pandas as pd\n",
    "import numpy as np\n",
    "from sklearn.ensemble import HistGradientBoostingRegressor\n",
    "from sklearn.metrics import mean_absolute_error, mean_squared_error\n",
    "from sklearn.model_selection import train_test_split\n",
    "from utils.transformations import FlaggedImputerTransformer\n",
    "from utils.filters import ZScoreOutlierFilter\n"
   ]
  },
  {
   "cell_type": "markdown",
   "id": "d8a982ea",
   "metadata": {},
   "source": [
    "### Cargar datos"
   ]
  },
  {
   "cell_type": "code",
   "execution_count": null,
   "id": "e9ea277b",
   "metadata": {},
   "outputs": [],
   "source": [
    "df = pd.read_csv(\"data/preprocessed/combined_data.csv\")\n",
    "df.head()\n"
   ]
  },
  {
   "cell_type": "markdown",
   "id": "15a947c5",
   "metadata": {},
   "source": [
    "### Separar features y variable objetivo"
   ]
  },
  {
   "cell_type": "code",
   "execution_count": 8,
   "id": "3dde4a84",
   "metadata": {},
   "outputs": [],
   "source": [
    "X = df.drop(columns=[\"Price\"])\n",
    "y = df[\"Price\"]\n"
   ]
  },
  {
   "cell_type": "markdown",
   "id": "021fa169",
   "metadata": {},
   "source": [
    "### Aplicar FlaggedImputerTransformer"
   ]
  },
  {
   "cell_type": "code",
   "execution_count": 10,
   "id": "db7ae31b",
   "metadata": {},
   "outputs": [],
   "source": [
    "transformer = FlaggedImputerTransformer()\n",
    "transformer.fit(X, y)\n",
    "X_transformed, y_transformed = transformer.transform(X, y)\n"
   ]
  },
  {
   "cell_type": "markdown",
   "id": "19e04a76",
   "metadata": {},
   "source": [
    "### Filtrar outliers con ZScoreOutlierFilter"
   ]
  },
  {
   "cell_type": "code",
   "execution_count": 11,
   "id": "dd4afd72",
   "metadata": {},
   "outputs": [],
   "source": [
    "zfilter = ZScoreOutlierFilter(z_thresh=3.0)\n",
    "X_filtered, y_filtered = zfilter.transform(X_transformed, y_transformed)\n"
   ]
  },
  {
   "cell_type": "code",
   "execution_count": 12,
   "id": "8f9ea2ab",
   "metadata": {},
   "outputs": [],
   "source": [
    "# Aplicar One-Hot Encoding a variables categóricas tras el filtrado\n",
    "X_encoded = pd.get_dummies(X_filtered, drop_first=True)\n"
   ]
  },
  {
   "cell_type": "markdown",
   "id": "78bd2fa7",
   "metadata": {},
   "source": [
    "### Entrenar modelo con HistGradientBoostingRegressor"
   ]
  },
  {
   "cell_type": "code",
   "execution_count": 13,
   "id": "2cc3adb2",
   "metadata": {},
   "outputs": [
    {
     "name": "stderr",
     "output_type": "stream",
     "text": [
      "C:\\Users\\irene\\AppData\\Local\\Temp\\ipykernel_19540\\972127727.py:3: FutureWarning: Series.ravel is deprecated. The underlying array is already 1D, so ravel is not necessary.  Use `to_numpy()` for conversion to a numpy array instead.\n",
      "  model.fit(X_train, y_train.ravel())\n"
     ]
    }
   ],
   "source": [
    "X_train, X_test, y_train, y_test = train_test_split(X_encoded, y_filtered, test_size=0.2, random_state=42)\n",
    "model = HistGradientBoostingRegressor()\n",
    "model.fit(X_train, y_train.ravel())\n",
    "y_pred = model.predict(X_test)\n"
   ]
  },
  {
   "cell_type": "markdown",
   "id": "d0a6f1bb",
   "metadata": {},
   "source": [
    "### Evaluación del modelo"
   ]
  },
  {
   "cell_type": "code",
   "execution_count": 14,
   "id": "974fcc0f",
   "metadata": {},
   "outputs": [
    {
     "name": "stdout",
     "output_type": "stream",
     "text": [
      "MAE: 6187120.66\n",
      "RMSE: 17904240.58\n",
      "MAPE: 78.73%\n"
     ]
    }
   ],
   "source": [
    "mae = mean_absolute_error(y_test, y_pred)\n",
    "rmse = np.sqrt(mean_squared_error(y_test, y_pred))\n",
    "mape = np.mean(np.abs((y_test - y_pred) / y_test)) * 100\n",
    "\n",
    "print(f\"MAE: {mae:.2f}\")\n",
    "print(f\"RMSE: {rmse:.2f}\")\n",
    "print(f\"MAPE: {mape:.2f}%\")\n"
   ]
  },
  {
   "cell_type": "markdown",
   "id": "48118db0",
   "metadata": {},
   "source": [
    "### Conclusión"
   ]
  },
  {
   "cell_type": "markdown",
   "id": "66794e41",
   "metadata": {},
   "source": [
    "Este segundo experimento aplica el preprocesador `FlaggedImputerTransformer`, que realiza:\n",
    "- Imputación con la mediana\n",
    "- Creación de indicadores de missing\n",
    "- Expansión no lineal con raíz cuadrada de 'Area'\n",
    "\n",
    "Junto con `ZScoreOutlierFilter` y el modelo `HistGradientBoostingRegressor`, permite comparar si esta estrategia funciona mejor o peor que la anterior.\n"
   ]
  }
 ],
 "metadata": {
  "kernelspec": {
   "display_name": "m_datos",
   "language": "python",
   "name": "python3"
  },
  "language_info": {
   "codemirror_mode": {
    "name": "ipython",
    "version": 3
   },
   "file_extension": ".py",
   "mimetype": "text/x-python",
   "name": "python",
   "nbconvert_exporter": "python",
   "pygments_lexer": "ipython3",
   "version": "3.12.7"
  }
 },
 "nbformat": 4,
 "nbformat_minor": 5
}
