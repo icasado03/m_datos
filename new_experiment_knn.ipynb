{
 "cells": [
  {
   "cell_type": "code",
   "execution_count": 1,
   "id": "4013a107",
   "metadata": {},
   "outputs": [],
   "source": [
    "import pandas as pd\n",
    "import numpy as np\n",
    "from sklearn.ensemble import HistGradientBoostingRegressor\n",
    "from sklearn.metrics import mean_absolute_error, mean_squared_error\n",
    "from sklearn.model_selection import train_test_split\n",
    "from utils.transformations import EncodedKNNTransformer, FlaggedImputerTransformer\n",
    "from utils.filters import ZScoreOutlierFilter\n"
   ]
  },
  {
   "cell_type": "markdown",
   "id": "54923cd6",
   "metadata": {},
   "source": [
    "### Cargar datos"
   ]
  },
  {
   "cell_type": "code",
   "execution_count": 2,
   "id": "89d6f4bb",
   "metadata": {},
   "outputs": [
    {
     "data": {
      "text/html": [
       "<div>\n",
       "<style scoped>\n",
       "    .dataframe tbody tr th:only-of-type {\n",
       "        vertical-align: middle;\n",
       "    }\n",
       "\n",
       "    .dataframe tbody tr th {\n",
       "        vertical-align: top;\n",
       "    }\n",
       "\n",
       "    .dataframe thead th {\n",
       "        text-align: right;\n",
       "    }\n",
       "</style>\n",
       "<table border=\"1\" class=\"dataframe\">\n",
       "  <thead>\n",
       "    <tr style=\"text-align: right;\">\n",
       "      <th></th>\n",
       "      <th>Price</th>\n",
       "      <th>city</th>\n",
       "      <th>Area</th>\n",
       "      <th>Location</th>\n",
       "      <th>No. of Bedrooms</th>\n",
       "      <th>Resale</th>\n",
       "      <th>MaintenanceStaff</th>\n",
       "      <th>Gymnasium</th>\n",
       "      <th>SwimmingPool</th>\n",
       "      <th>LandscapedGardens</th>\n",
       "      <th>...</th>\n",
       "      <th>LiftAvailable</th>\n",
       "      <th>BED</th>\n",
       "      <th>VaastuCompliant</th>\n",
       "      <th>Microwave</th>\n",
       "      <th>GolfCourse</th>\n",
       "      <th>TV</th>\n",
       "      <th>DiningTable</th>\n",
       "      <th>Sofa</th>\n",
       "      <th>Wardrobe</th>\n",
       "      <th>Stadium</th>\n",
       "    </tr>\n",
       "  </thead>\n",
       "  <tbody>\n",
       "    <tr>\n",
       "      <th>0</th>\n",
       "      <td>8500000</td>\n",
       "      <td>Mumbai</td>\n",
       "      <td>1614</td>\n",
       "      <td>Kandivali West</td>\n",
       "      <td>3</td>\n",
       "      <td>0</td>\n",
       "      <td>9</td>\n",
       "      <td>9</td>\n",
       "      <td>9</td>\n",
       "      <td>9</td>\n",
       "      <td>...</td>\n",
       "      <td>9</td>\n",
       "      <td>9</td>\n",
       "      <td>9</td>\n",
       "      <td>9</td>\n",
       "      <td>9</td>\n",
       "      <td>9</td>\n",
       "      <td>9</td>\n",
       "      <td>9</td>\n",
       "      <td>9</td>\n",
       "      <td>9</td>\n",
       "    </tr>\n",
       "    <tr>\n",
       "      <th>1</th>\n",
       "      <td>3700000</td>\n",
       "      <td>Mumbai</td>\n",
       "      <td>440</td>\n",
       "      <td>Mira Road East</td>\n",
       "      <td>1</td>\n",
       "      <td>0</td>\n",
       "      <td>0</td>\n",
       "      <td>0</td>\n",
       "      <td>0</td>\n",
       "      <td>1</td>\n",
       "      <td>...</td>\n",
       "      <td>1</td>\n",
       "      <td>0</td>\n",
       "      <td>0</td>\n",
       "      <td>0</td>\n",
       "      <td>0</td>\n",
       "      <td>0</td>\n",
       "      <td>0</td>\n",
       "      <td>0</td>\n",
       "      <td>0</td>\n",
       "      <td>0</td>\n",
       "    </tr>\n",
       "    <tr>\n",
       "      <th>2</th>\n",
       "      <td>3500000</td>\n",
       "      <td>Mumbai</td>\n",
       "      <td>890</td>\n",
       "      <td>Kalyan West</td>\n",
       "      <td>2</td>\n",
       "      <td>1</td>\n",
       "      <td>9</td>\n",
       "      <td>9</td>\n",
       "      <td>9</td>\n",
       "      <td>9</td>\n",
       "      <td>...</td>\n",
       "      <td>9</td>\n",
       "      <td>9</td>\n",
       "      <td>9</td>\n",
       "      <td>9</td>\n",
       "      <td>9</td>\n",
       "      <td>9</td>\n",
       "      <td>9</td>\n",
       "      <td>9</td>\n",
       "      <td>9</td>\n",
       "      <td>9</td>\n",
       "    </tr>\n",
       "    <tr>\n",
       "      <th>3</th>\n",
       "      <td>8400000</td>\n",
       "      <td>Bangalore</td>\n",
       "      <td>3138</td>\n",
       "      <td>Whitefield Hope Farm Junction</td>\n",
       "      <td>4</td>\n",
       "      <td>0</td>\n",
       "      <td>9</td>\n",
       "      <td>9</td>\n",
       "      <td>9</td>\n",
       "      <td>9</td>\n",
       "      <td>...</td>\n",
       "      <td>9</td>\n",
       "      <td>9</td>\n",
       "      <td>9</td>\n",
       "      <td>9</td>\n",
       "      <td>9</td>\n",
       "      <td>9</td>\n",
       "      <td>9</td>\n",
       "      <td>9</td>\n",
       "      <td>9</td>\n",
       "      <td>9</td>\n",
       "    </tr>\n",
       "    <tr>\n",
       "      <th>4</th>\n",
       "      <td>56000000</td>\n",
       "      <td>Mumbai</td>\n",
       "      <td>2200</td>\n",
       "      <td>Wadala East Wadala</td>\n",
       "      <td>3</td>\n",
       "      <td>1</td>\n",
       "      <td>1</td>\n",
       "      <td>0</td>\n",
       "      <td>0</td>\n",
       "      <td>1</td>\n",
       "      <td>...</td>\n",
       "      <td>1</td>\n",
       "      <td>1</td>\n",
       "      <td>1</td>\n",
       "      <td>0</td>\n",
       "      <td>0</td>\n",
       "      <td>0</td>\n",
       "      <td>0</td>\n",
       "      <td>0</td>\n",
       "      <td>0</td>\n",
       "      <td>0</td>\n",
       "    </tr>\n",
       "  </tbody>\n",
       "</table>\n",
       "<p>5 rows × 41 columns</p>\n",
       "</div>"
      ],
      "text/plain": [
       "      Price       city  Area                       Location  No. of Bedrooms  \\\n",
       "0   8500000     Mumbai  1614                 Kandivali West                3   \n",
       "1   3700000     Mumbai   440                 Mira Road East                1   \n",
       "2   3500000     Mumbai   890                    Kalyan West                2   \n",
       "3   8400000  Bangalore  3138  Whitefield Hope Farm Junction                4   \n",
       "4  56000000     Mumbai  2200             Wadala East Wadala                3   \n",
       "\n",
       "   Resale  MaintenanceStaff  Gymnasium  SwimmingPool  LandscapedGardens  ...  \\\n",
       "0       0                 9          9             9                  9  ...   \n",
       "1       0                 0          0             0                  1  ...   \n",
       "2       1                 9          9             9                  9  ...   \n",
       "3       0                 9          9             9                  9  ...   \n",
       "4       1                 1          0             0                  1  ...   \n",
       "\n",
       "   LiftAvailable  BED  VaastuCompliant  Microwave  GolfCourse  TV  \\\n",
       "0              9    9                9          9           9   9   \n",
       "1              1    0                0          0           0   0   \n",
       "2              9    9                9          9           9   9   \n",
       "3              9    9                9          9           9   9   \n",
       "4              1    1                1          0           0   0   \n",
       "\n",
       "   DiningTable  Sofa  Wardrobe  Stadium  \n",
       "0            9     9         9        9  \n",
       "1            0     0         0        0  \n",
       "2            9     9         9        9  \n",
       "3            9     9         9        9  \n",
       "4            0     0         0        0  \n",
       "\n",
       "[5 rows x 41 columns]"
      ]
     },
     "execution_count": 2,
     "metadata": {},
     "output_type": "execute_result"
    }
   ],
   "source": [
    "df = pd.read_csv(\"data/preprocessed/combined_data.csv\")\n",
    "df.head()\n"
   ]
  },
  {
   "cell_type": "markdown",
   "id": "21c49f66",
   "metadata": {},
   "source": [
    "### Separar features y variable objetivo"
   ]
  },
  {
   "cell_type": "code",
   "execution_count": 3,
   "id": "42cad53c",
   "metadata": {},
   "outputs": [],
   "source": [
    "X = df.drop(columns=[\"Price\"])\n",
    "y = df[\"Price\"]\n"
   ]
  },
  {
   "cell_type": "markdown",
   "id": "0a0205b8",
   "metadata": {},
   "source": [
    "### Aplicar EncodedKNNTransformer"
   ]
  },
  {
   "cell_type": "code",
   "execution_count": 4,
   "id": "368b8d67",
   "metadata": {},
   "outputs": [],
   "source": [
    "encoded_knn = EncodedKNNTransformer()\n",
    "encoded_knn.fit(X, y)\n",
    "X_encoded, y_encoded = encoded_knn.transform(X, y)\n"
   ]
  },
  {
   "cell_type": "markdown",
   "id": "61262ba2",
   "metadata": {},
   "source": [
    "### Filtrar outliers con ZScoreOutlierFilter"
   ]
  },
  {
   "cell_type": "code",
   "execution_count": 5,
   "id": "34c0126b",
   "metadata": {},
   "outputs": [],
   "source": [
    "zfilter = ZScoreOutlierFilter(z_thresh=3.0)\n",
    "X_filtered, y_filtered = zfilter.transform(X_encoded, y_encoded)"
   ]
  },
  {
   "cell_type": "markdown",
   "id": "e7c3d712",
   "metadata": {},
   "source": [
    "### Entrenar modelo con HistGradientBoostingRegressor"
   ]
  },
  {
   "cell_type": "code",
   "execution_count": 6,
   "id": "4fd3d1ab",
   "metadata": {},
   "outputs": [],
   "source": [
    "X_train, X_test, y_train, y_test = train_test_split(X_filtered, y_filtered, test_size=0.2, random_state=42)\n",
    "model = HistGradientBoostingRegressor()\n",
    "model.fit(X_train, y_train.ravel())\n",
    "y_pred = model.predict(X_test)\n"
   ]
  },
  {
   "cell_type": "markdown",
   "id": "da3f03f7",
   "metadata": {},
   "source": [
    "### Evaluación del modelo"
   ]
  },
  {
   "cell_type": "code",
   "execution_count": 7,
   "id": "8b3cbcec",
   "metadata": {},
   "outputs": [
    {
     "name": "stdout",
     "output_type": "stream",
     "text": [
      "MAE: 0.26\n",
      "RMSE: 0.76\n",
      "MAPE: 232.20%\n"
     ]
    }
   ],
   "source": [
    "mae = mean_absolute_error(y_test, y_pred)\n",
    "rmse = np.sqrt(mean_squared_error(y_test, y_pred))\n",
    "mape = np.mean(np.abs((y_test - y_pred) / y_test)) * 100\n",
    "\n",
    "print(f\"MAE: {mae:.2f}\")\n",
    "print(f\"RMSE: {rmse:.2f}\")\n",
    "print(f\"MAPE: {mape:.2f}%\")\n"
   ]
  },
  {
   "cell_type": "markdown",
   "id": "d60322ef",
   "metadata": {},
   "source": [
    "### Conclusión"
   ]
  },
  {
   "cell_type": "markdown",
   "id": "3922207d",
   "metadata": {},
   "source": [
    "El modelo `HistGradientBoostingRegressor` ha sido entrenado utilizando las nuevas clases:\n",
    "- `EncodedKNNTransformer`: para preprocesamiento avanzado.\n",
    "- `ZScoreOutlierFilter`: para detección y filtrado de outliers.\n",
    "\n",
    "Se ha evaluado con las métricas MAE, RMSE y MAPE. Este enfoque permite comparar fácilmente el rendimiento respecto a modelos anteriores implementados en el proyecto.\n"
   ]
  }
 ],
 "metadata": {
  "kernelspec": {
   "display_name": "m_datos",
   "language": "python",
   "name": "python3"
  },
  "language_info": {
   "codemirror_mode": {
    "name": "ipython",
    "version": 3
   },
   "file_extension": ".py",
   "mimetype": "text/x-python",
   "name": "python",
   "nbconvert_exporter": "python",
   "pygments_lexer": "ipython3",
   "version": "3.12.7"
  }
 },
 "nbformat": 4,
 "nbformat_minor": 5
}
